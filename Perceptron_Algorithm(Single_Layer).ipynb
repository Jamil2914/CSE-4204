{
  "nbformat": 4,
  "nbformat_minor": 0,
  "metadata": {
    "colab": {
      "name": "Perceptron Algorithm(Single Layer).ipynb",
      "provenance": [],
      "collapsed_sections": [],
      "authorship_tag": "ABX9TyPW//HR+K8LBdI21DkwPkIm",
      "include_colab_link": true
    },
    "kernelspec": {
      "name": "python3",
      "display_name": "Python 3"
    },
    "language_info": {
      "name": "python"
    }
  },
  "cells": [
    {
      "cell_type": "markdown",
      "metadata": {
        "id": "view-in-github",
        "colab_type": "text"
      },
      "source": [
        "<a href=\"https://colab.research.google.com/github/Jamil2914/CSE-4204/blob/main/Perceptron_Algorithm(Single_Layer).ipynb\" target=\"_parent\"><img src=\"https://colab.research.google.com/assets/colab-badge.svg\" alt=\"Open In Colab\"/></a>"
      ]
    },
    {
      "cell_type": "code",
      "execution_count": 25,
      "metadata": {
        "id": "POlHD5W1Vx1b"
      },
      "outputs": [],
      "source": [
        "import math\n",
        "import matplotlib.pyplot as plt"
      ]
    },
    {
      "cell_type": "markdown",
      "source": [
        "# **Tasks done in the Cell:**\n",
        "\n",
        "\n",
        "1.   No. of bits taken as input ✅\n",
        "2.   Index Length counted on the basis of total no. of bits to represent $x_{n}$ features. ✅\n",
        "3.   For each index, the actual label is set as **ylabel** where first half of the data table are labelled as 0 and second half as 1. ✅\n",
        "4.   Finally, the corresponding binary values of each index value are represented via a list **xlist** where *(i = ListIndex % No. of bits)* represents $x_{i}$ feature for that index value(This step will be implemented in the following cell)\n",
        "\n",
        "\n",
        "\n"
      ],
      "metadata": {
        "id": "cJOm85aEc9Iz"
      }
    },
    {
      "cell_type": "code",
      "source": [
        "  print(\"Input the no. of bits: \")\n",
        "  No_of_bits = int(input())\n",
        "  indexLength = pow(2,No_of_bits)\n",
        "  ylabel = []\n",
        "  xlist = []\n",
        "  for i in range (indexLength):\n",
        "    if i<(indexLength/2):\n",
        "      ylabel.append(0)\n",
        "    else:\n",
        "      ylabel.append(1)\n",
        "  print(\"ylabel = \",ylabel)\n",
        "  for index in range (indexLength):\n",
        "    convertedTobinary = list(bin(index))\n",
        "    if index<(indexLength/2):\n",
        "      for counter in range((No_of_bits+2)-len(convertedTobinary)):\n",
        "        convertedTobinary.insert(2,'0')\n",
        "        ''.join(convertedTobinary)\n",
        "    print(convertedTobinary)\n",
        "    for i in range (len(convertedTobinary)):\n",
        "      if i>1:\n",
        "        xlist.append(int(convertedTobinary[i]))\n",
        "  print(\"xlist = \",xlist)\n"
      ],
      "metadata": {
        "id": "LJ6VcBg2WasA",
        "colab": {
          "base_uri": "https://localhost:8080/"
        },
        "outputId": "4f02cf25-e597-4f1d-d6b8-2018546b08bb"
      },
      "execution_count": 21,
      "outputs": [
        {
          "output_type": "stream",
          "name": "stdout",
          "text": [
            "Input the no. of bits: \n",
            "2\n",
            "ylabel =  [0, 0, 1, 1]\n",
            "['0', 'b', '0', '0']\n",
            "['0', 'b', '0', '1']\n",
            "['0', 'b', '1', '0']\n",
            "['0', 'b', '1', '1']\n",
            "xlist =  [0, 0, 0, 1, 1, 0, 1, 1]\n"
          ]
        }
      ]
    },
    {
      "cell_type": "markdown",
      "source": [
        "## **Input of weights and threshold value are taken**:✅"
      ],
      "metadata": {
        "id": "QYJLL4mJ2xuH"
      }
    },
    {
      "cell_type": "code",
      "source": [
        "  weight = []\n",
        "  for i in range (No_of_bits):\n",
        "    print(\"Input weight no.\",i,\":\")\n",
        "    weight.append(float(input()))\n",
        "  print(\"Input the threshold value: \")\n",
        "  threshold = float(input())\n",
        "  "
      ],
      "metadata": {
        "colab": {
          "base_uri": "https://localhost:8080/"
        },
        "id": "zH67UhmJjBwr",
        "outputId": "aefab173-a952-4241-ac1b-2145d7d73f62"
      },
      "execution_count": 32,
      "outputs": [
        {
          "name": "stdout",
          "output_type": "stream",
          "text": [
            "Input weight no. 0 :\n",
            "0.1\n",
            "Input weight no. 1 :\n",
            "0.5\n",
            "Input the threshold value: \n",
            "0.2\n"
          ]
        }
      ]
    },
    {
      "cell_type": "markdown",
      "source": [
        "##**Main Algorithm is implemented in this section:✅** "
      ],
      "metadata": {
        "id": "3ZO6bDGJ7MOq"
      }
    },
    {
      "cell_type": "code",
      "source": [
        "pos = 0\n",
        "index = 0\n",
        "while index < indexLength:\n",
        "  j = 0\n",
        "  print(\"This is index\",index)\n",
        "  if index == 0:\n",
        "    pos = 0\n",
        "    print(\"here the initial position is\",pos)\n",
        "  holdpos = pos\n",
        "  sum = 0\n",
        "  while j < No_of_bits:\n",
        "    mul = weight[j] * xlist[pos]\n",
        "    sum = sum + mul\n",
        "    j = j + 1\n",
        "    pos = pos + 1\n",
        "  if sum <= threshold:\n",
        "    y_pred = 0\n",
        "    if y_pred != ylabel[index]:\n",
        "      k = 0 \n",
        "      while k < No_of_bits:\n",
        "        weight[k] = weight[k] + xlist[holdpos]\n",
        "        k = k + 1\n",
        "        holdpos = holdpos + 1\n",
        "      index = 0\n",
        "      print(\"sum = \",sum)\n",
        "      print(\"Y_PRED = \",y_pred)\n",
        "      print(\"Weight at this pass =\",weight)\n",
        "    else:\n",
        "      index = index + 1\n",
        "      print(\"sum = \",sum)\n",
        "      print(\"Y_PRED = \",y_pred)\n",
        "      print(\"Weight at this pass =\",weight)\n",
        "  if sum > threshold:\n",
        "    y_pred = 1\n",
        "    if y_pred != ylabel[index]:\n",
        "      k = 0 \n",
        "      while k < No_of_bits:\n",
        "        weight[k] = weight[k] - xlist[holdpos]\n",
        "        k = k + 1\n",
        "        holdpos = holdpos + 1\n",
        "      index = 0\n",
        "      print(\"sum = \",sum)\n",
        "      print(\"Y_PRED = \",y_pred)\n",
        "      print(\"Weight at this pass =\",weight)\n",
        "    else:\n",
        "      index = index + 1\n",
        "      print(\"sum = \",sum)\n",
        "      print(\"Y_PRED = \",y_pred)\n",
        "      print(\"Weight at this pass =\",weight)\n",
        "print()\n",
        "print()\n",
        "print()\n",
        "print(\"Final weight =\",weight)\n",
        "\n",
        "\n",
        "        \n"
      ],
      "metadata": {
        "colab": {
          "base_uri": "https://localhost:8080/"
        },
        "id": "8389miJA1h7X",
        "outputId": "052acb17-4f2b-4555-df50-2c30a172b21c"
      },
      "execution_count": 33,
      "outputs": [
        {
          "output_type": "stream",
          "name": "stdout",
          "text": [
            "This is index 0\n",
            "here the initial position is 0\n",
            "sum =  0.0\n",
            "Y_PRED =  0\n",
            "Weight at this pass = [0.1, 0.5]\n",
            "This is index 1\n",
            "sum =  0.5\n",
            "Y_PRED =  1\n",
            "Weight at this pass = [0.1, -0.5]\n",
            "This is index 0\n",
            "here the initial position is 0\n",
            "sum =  0.0\n",
            "Y_PRED =  0\n",
            "Weight at this pass = [0.1, -0.5]\n",
            "This is index 1\n",
            "sum =  -0.5\n",
            "Y_PRED =  0\n",
            "Weight at this pass = [0.1, -0.5]\n",
            "This is index 2\n",
            "sum =  0.1\n",
            "Y_PRED =  0\n",
            "Weight at this pass = [1.1, -0.5]\n",
            "This is index 0\n",
            "here the initial position is 0\n",
            "sum =  0.0\n",
            "Y_PRED =  0\n",
            "Weight at this pass = [1.1, -0.5]\n",
            "This is index 1\n",
            "sum =  -0.5\n",
            "Y_PRED =  0\n",
            "Weight at this pass = [1.1, -0.5]\n",
            "This is index 2\n",
            "sum =  1.1\n",
            "Y_PRED =  1\n",
            "Weight at this pass = [1.1, -0.5]\n",
            "This is index 3\n",
            "sum =  0.6000000000000001\n",
            "Y_PRED =  1\n",
            "Weight at this pass = [1.1, -0.5]\n",
            "\n",
            "\n",
            "\n",
            "Final weight = [1.1, -0.5]\n"
          ]
        }
      ]
    },
    {
      "cell_type": "code",
      "source": [
        ""
      ],
      "metadata": {
        "id": "9AOiev3U-h2Y"
      },
      "execution_count": null,
      "outputs": []
    }
  ]
}