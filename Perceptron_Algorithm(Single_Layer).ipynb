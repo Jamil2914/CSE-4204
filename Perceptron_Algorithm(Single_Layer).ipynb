{
  "cells": [
    {
      "cell_type": "markdown",
      "metadata": {
        "id": "view-in-github",
        "colab_type": "text"
      },
      "source": [
        "<a href=\"https://colab.research.google.com/github/Jamil2914/CSE-4204/blob/main/Perceptron_Algorithm(Single_Layer).ipynb\" target=\"_parent\"><img src=\"https://colab.research.google.com/assets/colab-badge.svg\" alt=\"Open In Colab\"/></a>"
      ]
    },
    {
      "cell_type": "code",
      "execution_count": 46,
      "metadata": {
        "id": "POlHD5W1Vx1b"
      },
      "outputs": [],
      "source": [
        "import math\n",
        "import matplotlib.pyplot as plt"
      ]
    },
    {
      "cell_type": "markdown",
      "metadata": {
        "id": "cJOm85aEc9Iz"
      },
      "source": [
        "# **Tasks done in the Cell:**\n",
        "\n",
        "\n",
        "1.   No. of bits taken as input ✅\n",
        "2.   Index Length counted on the basis of total no. of bits to represent $x_{n}$ features. ✅\n",
        "3.   For each index, the actual label is set as **ylabel** where first half of the data table are labelled as 0 and second half as 1. ✅\n",
        "4.   Finally, the corresponding binary values of each index value are represented via a list **xlist** where *(i = ListIndex % No. of bits)* represents $x_{i}$ feature for that index value(This step will be implemented in the following cell)\n",
        "\n",
        "\n",
        "\n"
      ]
    },
    {
      "cell_type": "code",
      "execution_count": 47,
      "metadata": {
        "colab": {
          "base_uri": "https://localhost:8080/"
        },
        "id": "LJ6VcBg2WasA",
        "outputId": "77be6f72-e482-4eb8-b9ef-2f7d44a7b77b"
      },
      "outputs": [
        {
          "output_type": "stream",
          "name": "stdout",
          "text": [
            "Input the no. of bits: \n",
            "3\n",
            "ylabel =  [0, 0, 0, 0, 1, 1, 1, 1]\n",
            "['0', 'b', '0', '0', '0']\n",
            "['0', 'b', '0', '0', '1']\n",
            "['0', 'b', '0', '1', '0']\n",
            "['0', 'b', '0', '1', '1']\n",
            "['0', 'b', '1', '0', '0']\n",
            "['0', 'b', '1', '0', '1']\n",
            "['0', 'b', '1', '1', '0']\n",
            "['0', 'b', '1', '1', '1']\n",
            "xlist =  [0, 0, 0, 0, 0, 1, 0, 1, 0, 0, 1, 1, 1, 0, 0, 1, 0, 1, 1, 1, 0, 1, 1, 1]\n"
          ]
        }
      ],
      "source": [
        "  print(\"Input the no. of bits: \")\n",
        "  No_of_bits = int(input())\n",
        "  indexLength = pow(2,No_of_bits)\n",
        "  ylabel = []\n",
        "  xlist = []\n",
        "  for i in range (indexLength):\n",
        "    if i<(indexLength/2): #upper half of the data table is labeled as 0 (0 to (indexLength/2-1))\n",
        "      ylabel.append(0)\n",
        "    else: #lower half is labeled as 1 (indexlength/2 to indexLength - 1)\n",
        "      ylabel.append(1)\n",
        "  print(\"ylabel = \",ylabel)\n",
        "  for index in range (indexLength): \n",
        "    convertedTobinary = list(bin(index)) #each index value is converted to equivalent binary value and stored in convertedTobinary list\n",
        "    if index<(indexLength/2):\n",
        "      for counter in range((No_of_bits+2)-len(convertedTobinary)): #as \"bin\" function returns value adding '0b' before each string and returns a non uniform length of each conversion, so the '0b' extensions are removed and reqired number of 0s are padded in between to make all index numbers same in representing with total no. of bits. \n",
        "        convertedTobinary.insert(2,'0')\n",
        "        ''.join(convertedTobinary)\n",
        "    print(convertedTobinary)\n",
        "    for i in range (len(convertedTobinary)): #The values in the convertedTobinary list are character type. So, they are converted to integer type\n",
        "      if i>1:\n",
        "        xlist.append(int(convertedTobinary[i]))\n",
        "  print(\"xlist = \",xlist)\n"
      ]
    },
    {
      "cell_type": "markdown",
      "metadata": {
        "id": "QYJLL4mJ2xuH"
      },
      "source": [
        "## **Input of weights and threshold value are taken**:✅"
      ]
    },
    {
      "cell_type": "code",
      "execution_count": 50,
      "metadata": {
        "colab": {
          "base_uri": "https://localhost:8080/"
        },
        "id": "zH67UhmJjBwr",
        "outputId": "5b498393-9287-48bc-e050-069b82627cb7"
      },
      "outputs": [
        {
          "name": "stdout",
          "output_type": "stream",
          "text": [
            "Input weight no. 0 :\n",
            "0.1\n",
            "Input weight no. 1 :\n",
            "0.2\n",
            "Input weight no. 2 :\n",
            "0.3\n",
            "Input the threshold value: \n",
            "0.5\n"
          ]
        }
      ],
      "source": [
        "  weight = []\n",
        "  for i in range (No_of_bits):\n",
        "    print(\"Input weight no.\",i,\":\")\n",
        "    weight.append(float(input()))\n",
        "  print(\"Input the threshold value: \")\n",
        "  threshold = float(input())\n",
        "  "
      ]
    },
    {
      "cell_type": "markdown",
      "metadata": {
        "id": "3ZO6bDGJ7MOq"
      },
      "source": [
        "##**Main Algorithm is implemented in this section:✅0** "
      ]
    },
    {
      "cell_type": "code",
      "execution_count": 51,
      "metadata": {
        "colab": {
          "base_uri": "https://localhost:8080/"
        },
        "id": "8389miJA1h7X",
        "outputId": "523ecda2-7ec8-485c-be1d-3bb58fd1aca0"
      },
      "outputs": [
        {
          "output_type": "stream",
          "name": "stdout",
          "text": [
            "This is index 0\n",
            "here the initial position is 0\n",
            "sum =  0.0\n",
            "Y_PRED =  0\n",
            "Weight at this pass = [0.1, 0.2, 0.3]\n",
            "This is index 1\n",
            "sum =  0.3\n",
            "Y_PRED =  0\n",
            "Weight at this pass = [0.1, 0.2, 0.3]\n",
            "This is index 2\n",
            "sum =  0.2\n",
            "Y_PRED =  0\n",
            "Weight at this pass = [0.1, 0.2, 0.3]\n",
            "This is index 3\n",
            "sum =  0.5\n",
            "Y_PRED =  0\n",
            "Weight at this pass = [0.1, 0.2, 0.3]\n",
            "This is index 4\n",
            "sum =  0.1\n",
            "Y_PRED =  0\n",
            "Weight at this pass = [1.1, 0.2, 0.3]\n",
            "This is index 0\n",
            "here the initial position is 0\n",
            "sum =  0.0\n",
            "Y_PRED =  0\n",
            "Weight at this pass = [1.1, 0.2, 0.3]\n",
            "This is index 1\n",
            "sum =  0.3\n",
            "Y_PRED =  0\n",
            "Weight at this pass = [1.1, 0.2, 0.3]\n",
            "This is index 2\n",
            "sum =  0.2\n",
            "Y_PRED =  0\n",
            "Weight at this pass = [1.1, 0.2, 0.3]\n",
            "This is index 3\n",
            "sum =  0.5\n",
            "Y_PRED =  0\n",
            "Weight at this pass = [1.1, 0.2, 0.3]\n",
            "This is index 4\n",
            "sum =  1.1\n",
            "Y_PRED =  1\n",
            "Weight at this pass = [1.1, 0.2, 0.3]\n",
            "This is index 5\n",
            "sum =  1.4000000000000001\n",
            "Y_PRED =  1\n",
            "Weight at this pass = [1.1, 0.2, 0.3]\n",
            "This is index 6\n",
            "sum =  1.3\n",
            "Y_PRED =  1\n",
            "Weight at this pass = [1.1, 0.2, 0.3]\n",
            "This is index 7\n",
            "sum =  1.6\n",
            "Y_PRED =  1\n",
            "Weight at this pass = [1.1, 0.2, 0.3]\n",
            "\n",
            "\n",
            "\n",
            "Final weight = [1.1, 0.2, 0.3]\n"
          ]
        }
      ],
      "source": [
        "pos = 0 #to get the position at 0th position of xlist\n",
        "index = 0 #initialize index\n",
        "while index < indexLength: #This loop is to be continued until the conditions of the algorithm is fulfilled for all indexed data by updating the weight value \n",
        "  j = 0\n",
        "  print(\"This is index\",index)\n",
        "  if index == 0: #if the loop returns to the 0th index again then it is necessary to make the initial position of xlist 0 again\n",
        "    pos = 0\n",
        "    print(\"here the initial position is\",pos)\n",
        "  holdpos = pos #the current value of pos is stored in holdpos to further analyze xlist from proper starting point\n",
        "  sum = 0\n",
        "  while j < No_of_bits:\n",
        "    mul = weight[j] * xlist[pos] #mul = Wi  * Xi\n",
        "    sum = sum + mul #sum = sum(all Wi*Xi) or the Fh function\n",
        "    j = j + 1\n",
        "    pos = pos + 1\n",
        "  if sum <= threshold: #if sum <= threshold then predicteion is 0\n",
        "    y_pred = 0\n",
        "    if y_pred != ylabel[index]: #prediction is 0, should be 1, so xlist value should be added to corresponding weight value\n",
        "      k = 0 \n",
        "      while k < No_of_bits:\n",
        "        weight[k] = weight[k] + xlist[holdpos] #add\n",
        "        k = k + 1\n",
        "        holdpos = holdpos + 1\n",
        "      index = 0\n",
        "      print(\"sum = \",sum) #sum value(Fh function is printed)\n",
        "      print(\"Y_PRED = \",y_pred) #prediction value\n",
        "      print(\"Weight at this pass =\",weight) #weight updated upto this stage\n",
        "    else:\n",
        "      index = index + 1\n",
        "      print(\"sum = \",sum) #sum value(Fh function is printed)\n",
        "      print(\"Y_PRED = \",y_pred) #prediction value\n",
        "      print(\"Weight at this pass =\",weight) #weight updated upto this stage\n",
        "  if sum > threshold: #if sum > threshold, then prediction is 1\n",
        "    y_pred = 1\n",
        "    if y_pred != ylabel[index]: #prediction is 1, should be 0, so xlist value should be subtracted from corresponding weight value\n",
        "      k = 0 \n",
        "      while k < No_of_bits:\n",
        "        weight[k] = weight[k] - xlist[holdpos] #sub\n",
        "        k = k + 1\n",
        "        holdpos = holdpos + 1\n",
        "      index = 0\n",
        "      print(\"sum = \",sum) #sum value(Fh function is printed)\n",
        "      print(\"Y_PRED = \",y_pred) #prediction value\n",
        "      print(\"Weight at this pass =\",weight) #weight updated upto this stage\n",
        "    else:\n",
        "      index = index + 1\n",
        "      print(\"sum = \",sum) #sum value(Fh function is printed)\n",
        "      print(\"Y_PRED = \",y_pred) #prediction value\n",
        "      print(\"Weight at this pass =\",weight) #weight updated upto this stage\n",
        "print()\n",
        "print()\n",
        "print()\n",
        "print(\"Final weight =\",weight)\n",
        "\n",
        "\n",
        "        \n"
      ]
    }
  ],
  "metadata": {
    "colab": {
      "collapsed_sections": [],
      "name": "Perceptron Algorithm(Single Layer).ipynb",
      "provenance": [],
      "authorship_tag": "ABX9TyOguR4QIj9QsaLwYQAYn5gD",
      "include_colab_link": true
    },
    "kernelspec": {
      "display_name": "Python 3",
      "name": "python3"
    },
    "language_info": {
      "name": "python"
    }
  },
  "nbformat": 4,
  "nbformat_minor": 0
}