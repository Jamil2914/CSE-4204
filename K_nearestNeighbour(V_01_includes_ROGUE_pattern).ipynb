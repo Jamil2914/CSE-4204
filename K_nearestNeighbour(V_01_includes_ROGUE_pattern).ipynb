{
  "cells": [
    {
      "cell_type": "markdown",
      "metadata": {
        "id": "view-in-github",
        "colab_type": "text"
      },
      "source": [
        "<a href=\"https://colab.research.google.com/github/Jamil2914/CSE-4204/blob/main/K_nearestNeighbour(V_01_includes_ROGUE_pattern).ipynb\" target=\"_parent\"><img src=\"https://colab.research.google.com/assets/colab-badge.svg\" alt=\"Open In Colab\"/></a>"
      ]
    },
    {
      "cell_type": "code",
      "execution_count": 48,
      "metadata": {
        "id": "zdBITDQrZQKZ"
      },
      "outputs": [],
      "source": [
        "import math\n",
        "import matplotlib.pyplot as plt"
      ]
    },
    {
      "cell_type": "code",
      "execution_count": 49,
      "metadata": {
        "colab": {
          "base_uri": "https://localhost:8080/",
          "height": 697
        },
        "id": "y2EXe2JbGSj8",
        "outputId": "b9bf4adb-cf01-465d-e06c-2a87c30e6712"
      },
      "outputs": [
        {
          "name": "stdout",
          "output_type": "stream",
          "text": [
            "Input a coordinate : \n",
            "-1\n",
            "2\n"
          ]
        },
        {
          "output_type": "display_data",
          "data": {
            "text/plain": [
              "<Figure size 432x288 with 1 Axes>"
            ],
            "image/png": "[encoded data removed]"
          },
          "metadata": {
            "needs_background": "light"
          }
        },
        {
          "name": "stdout",
          "output_type": "stream",
          "text": [
            "Input a coordinate : \n",
            "1\n",
            "2\n"
          ]
        },
        {
          "output_type": "display_data",
          "data": {
            "text/plain": [
              "<Figure size 432x288 with 1 Axes>"
            ],
            "image/png": "[encoded data removed]"
          },
          "metadata": {
            "needs_background": "light"
          }
        },
        {
          "output_type": "stream",
          "name": "stdout",
          "text": [
            "Input a coordinate : \n",
            "p\n",
            "[[2, 4]]      [[-4, 3], [-1, 2], [1, 2]]\n"
          ]
        }
      ],
      "source": [
        "try:\n",
        "    List1 = [[2,4]]\n",
        "    List2 = [[-4,3]]\n",
        "    res1_list = []\n",
        "    res2_list = []\n",
        "    while True:\n",
        "        print(\"Input a coordinate : \")\n",
        "        element = [int(input()),int(input())]\n",
        "        List3 = []\n",
        "        List3.append(element)\n",
        "        for i in range (len(List1)):\n",
        "          res1 = math.sqrt(pow((List1[i][0]-List3[0][0]),2)+pow((List1[i][1]-List3[0][1]),2))\n",
        "          #print((List1[i][0]-List3[0][0]))\n",
        "          #print(List1[i][1]-List3[0][1])\n",
        "          #print(res1)\n",
        "          res1_list.append(res1)\n",
        "          #print(res1_list)\n",
        "        for j in range (len(List2)):\n",
        "          res2 = math.sqrt(pow((List2[j][0]-List3[0][0]),2)+pow((List2[j][1]-List3[0][1]),2))\n",
        "          res2_list.append(res2)\n",
        "          #print(res2_list)\n",
        "        min1 = min(res1_list)\n",
        "        min2 = min(res2_list)\n",
        "        if min1 < min2 :\n",
        "            List1.append(element)\n",
        "        else :\n",
        "            List2.append(element)\n",
        "        x1 = []\n",
        "        x2 = []\n",
        "        y1 = []\n",
        "        y2 = []\n",
        "        for k in range (len(List1)):\n",
        "          x1.append(List1[k][0])\n",
        "        for l in range (len(List2)):\n",
        "          x2.append(List2[l][0])\n",
        "        for m in range (len(List1)):\n",
        "          y1.append(List1[m][1])\n",
        "        for n in range (len(List2)):\n",
        "          y2.append(List2[n][1])\n",
        "        plt.scatter(x1,y1)\n",
        "        plt.scatter(x2,y2)\n",
        "        plt.xlabel(\"X axis\")\n",
        "        plt.ylabel(\"Y axis\")\n",
        "        plt.show()\n",
        "        \n",
        "    \n",
        "         \n",
        "except:\n",
        "    print(List1,\"    \",List2)\n",
        "    "
      ]
    }
  ],
  "metadata": {
    "colab": {
      "name": "K-nearestNeighbour(V_01_includes_ROGUE_pattern).ipynb",
      "provenance": [],
      "collapsed_sections": [],
      "authorship_tag": "ABX9TyOEqg6n0LFUT59Pr4Y4+N77",
      "include_colab_link": true
    },
    "kernelspec": {
      "display_name": "Python 3",
      "name": "python3"
    },
    "language_info": {
      "name": "python"
    }
  },
  "nbformat": 4,
  "nbformat_minor": 0
}